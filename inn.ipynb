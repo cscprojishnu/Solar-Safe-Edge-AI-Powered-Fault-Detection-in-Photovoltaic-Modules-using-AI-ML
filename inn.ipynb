{
 "cells": [
  {
   "cell_type": "code",
   "execution_count": 1,
   "id": "3e7fa290",
   "metadata": {},
   "outputs": [
    {
     "name": "stdout",
     "output_type": "stream",
     "text": [
      "Device: cuda\n",
      "Loaded CSV: C:\\Users\\cscpr\\Desktop\\SEM3\\Projects\\FAI\\dataset\\2020-02-14_InfraredSolarModules\\module_metadata.csv rows: 20000\n",
      "Detected image filename column in CSV: image_filepath\n",
      "Detected label column: anomaly_class\n",
      "Found classes: ['Cell', 'Cell-Multi', 'Cracking', 'Diode', 'Diode-Multi', 'Hot-Spot', 'Hot-Spot-Multi', 'No-Anomaly', 'Offline-Module', 'Shadowing', 'Soiling', 'Vegetation']\n",
      "Sample rows: [{'_img_path': 'C:\\\\Users\\\\cscpr\\\\Desktop\\\\SEM3\\\\Projects\\\\FAI\\\\dataset\\\\2020-02-14_InfraredSolarModules\\\\images\\\\0.jpg', 'anomaly_class': 'Offline-Module', 'label': 8}, {'_img_path': 'C:\\\\Users\\\\cscpr\\\\Desktop\\\\SEM3\\\\Projects\\\\FAI\\\\dataset\\\\2020-02-14_InfraredSolarModules\\\\images\\\\1.jpg', 'anomaly_class': 'Offline-Module', 'label': 8}, {'_img_path': 'C:\\\\Users\\\\cscpr\\\\Desktop\\\\SEM3\\\\Projects\\\\FAI\\\\dataset\\\\2020-02-14_InfraredSolarModules\\\\images\\\\2.jpg', 'anomaly_class': 'Offline-Module', 'label': 8}]\n",
      "Loading cached image tensors...\n",
      "Loaded cached images: torch.Size([20000, 3, 64, 64]) labels: torch.Size([20000])\n",
      "NUM_CLASSES: 12\n",
      "Splits -> 14000 3000 3000\n",
      "Using batch size: 128\n",
      "One batch shapes: torch.Size([128, 3, 64, 64]) torch.Size([128])\n",
      "Model params: 0.044 M\n"
     ]
    },
    {
     "data": {
      "application/vnd.jupyter.widget-view+json": {
       "model_id": "51b88f1979c04bdfb3749a2f840bd3d4",
       "version_major": 2,
       "version_minor": 0
      },
      "text/plain": [
       "Epoch 1/100:   0%|          | 0/110 [00:00<?, ?batch/s]"
      ]
     },
     "metadata": {},
     "output_type": "display_data"
    },
    {
     "name": "stdout",
     "output_type": "stream",
     "text": [
      "Epoch 1: train_loss=1.9827 train_acc=46.41% | val_loss=nan val_acc=49.70% | time=34.5s\n",
      "  ✓ New best saved\n"
     ]
    },
    {
     "data": {
      "application/vnd.jupyter.widget-view+json": {
       "model_id": "fd5ee9cf48c14a63aa49006e78641952",
       "version_major": 2,
       "version_minor": 0
      },
      "text/plain": [
       "Epoch 2/100:   0%|          | 0/110 [00:00<?, ?batch/s]"
      ]
     },
     "metadata": {},
     "output_type": "display_data"
    },
    {
     "name": "stdout",
     "output_type": "stream",
     "text": [
      "Epoch 2: train_loss=1.8321 train_acc=50.29% | val_loss=1.7708 val_acc=50.20% | time=33.4s\n",
      "  ✓ New best saved\n"
     ]
    },
    {
     "data": {
      "application/vnd.jupyter.widget-view+json": {
       "model_id": "15e36780a76b4ce0a4efccf777a8b7f3",
       "version_major": 2,
       "version_minor": 0
      },
      "text/plain": [
       "Epoch 3/100:   0%|          | 0/110 [00:00<?, ?batch/s]"
      ]
     },
     "metadata": {},
     "output_type": "display_data"
    },
    {
     "name": "stdout",
     "output_type": "stream",
     "text": [
      "Epoch 3: train_loss=1.7822 train_acc=51.11% | val_loss=1.7211 val_acc=51.47% | time=32.7s\n",
      "  ✓ New best saved\n"
     ]
    },
    {
     "data": {
      "application/vnd.jupyter.widget-view+json": {
       "model_id": "08d2dbc4be6740af91278a7df6e0f2f0",
       "version_major": 2,
       "version_minor": 0
      },
      "text/plain": [
       "Epoch 4/100:   0%|          | 0/110 [00:00<?, ?batch/s]"
      ]
     },
     "metadata": {},
     "output_type": "display_data"
    },
    {
     "name": "stdout",
     "output_type": "stream",
     "text": [
      "Epoch 4: train_loss=1.7440 train_acc=51.94% | val_loss=1.7039 val_acc=51.40% | time=32.2s\n"
     ]
    },
    {
     "data": {
      "application/vnd.jupyter.widget-view+json": {
       "model_id": "7e504575df2b493a9208891098bf7eef",
       "version_major": 2,
       "version_minor": 0
      },
      "text/plain": [
       "Epoch 5/100:   0%|          | 0/110 [00:00<?, ?batch/s]"
      ]
     },
     "metadata": {},
     "output_type": "display_data"
    },
    {
     "name": "stdout",
     "output_type": "stream",
     "text": [
      "Epoch 5: train_loss=1.7034 train_acc=52.97% | val_loss=1.6596 val_acc=54.33% | time=33.4s\n",
      "  ✓ New best saved\n"
     ]
    },
    {
     "data": {
      "application/vnd.jupyter.widget-view+json": {
       "model_id": "86e698d974e54db18e99dcc15e76a641",
       "version_major": 2,
       "version_minor": 0
      },
      "text/plain": [
       "Epoch 6/100:   0%|          | 0/110 [00:00<?, ?batch/s]"
      ]
     },
     "metadata": {},
     "output_type": "display_data"
    },
    {
     "name": "stdout",
     "output_type": "stream",
     "text": [
      "Epoch 6: train_loss=1.6445 train_acc=54.86% | val_loss=1.5952 val_acc=56.10% | time=33.4s\n",
      "  ✓ New best saved\n"
     ]
    },
    {
     "data": {
      "application/vnd.jupyter.widget-view+json": {
       "model_id": "4e5dc8ca6f26433da947de7b344dee99",
       "version_major": 2,
       "version_minor": 0
      },
      "text/plain": [
       "Epoch 7/100:   0%|          | 0/110 [00:00<?, ?batch/s]"
      ]
     },
     "metadata": {},
     "output_type": "display_data"
    },
    {
     "name": "stdout",
     "output_type": "stream",
     "text": [
      "Epoch 7: train_loss=1.6016 train_acc=56.06% | val_loss=1.5536 val_acc=57.23% | time=32.8s\n",
      "  ✓ New best saved\n"
     ]
    },
    {
     "data": {
      "application/vnd.jupyter.widget-view+json": {
       "model_id": "af951b3451c24b99be42254be92b59f7",
       "version_major": 2,
       "version_minor": 0
      },
      "text/plain": [
       "Epoch 8/100:   0%|          | 0/110 [00:00<?, ?batch/s]"
      ]
     },
     "metadata": {},
     "output_type": "display_data"
    },
    {
     "name": "stdout",
     "output_type": "stream",
     "text": [
      "Epoch 8: train_loss=1.5738 train_acc=56.65% | val_loss=1.5610 val_acc=57.97% | time=32.0s\n",
      "  ✓ New best saved\n"
     ]
    },
    {
     "data": {
      "application/vnd.jupyter.widget-view+json": {
       "model_id": "44de61ce0f8f4a7ab14955b7eb5d3620",
       "version_major": 2,
       "version_minor": 0
      },
      "text/plain": [
       "Epoch 9/100:   0%|          | 0/110 [00:00<?, ?batch/s]"
      ]
     },
     "metadata": {},
     "output_type": "display_data"
    },
    {
     "name": "stdout",
     "output_type": "stream",
     "text": [
      "Epoch 9: train_loss=1.5420 train_acc=57.16% | val_loss=1.5442 val_acc=57.10% | time=32.7s\n"
     ]
    },
    {
     "data": {
      "application/vnd.jupyter.widget-view+json": {
       "model_id": "8c6ab6cb81034f1bb937e06f158a557e",
       "version_major": 2,
       "version_minor": 0
      },
      "text/plain": [
       "Epoch 10/100:   0%|          | 0/110 [00:00<?, ?batch/s]"
      ]
     },
     "metadata": {},
     "output_type": "display_data"
    },
    {
     "name": "stdout",
     "output_type": "stream",
     "text": [
      "Epoch 10: train_loss=1.5204 train_acc=57.81% | val_loss=1.4760 val_acc=59.00% | time=33.6s\n",
      "  ✓ New best saved\n"
     ]
    },
    {
     "data": {
      "application/vnd.jupyter.widget-view+json": {
       "model_id": "78c7f75c56b346d5a3ffac05b65e07ec",
       "version_major": 2,
       "version_minor": 0
      },
      "text/plain": [
       "Epoch 11/100:   0%|          | 0/110 [00:00<?, ?batch/s]"
      ]
     },
     "metadata": {},
     "output_type": "display_data"
    },
    {
     "name": "stdout",
     "output_type": "stream",
     "text": [
      "Epoch 11: train_loss=1.4979 train_acc=58.64% | val_loss=1.4769 val_acc=59.13% | time=32.6s\n",
      "  ✓ New best saved\n"
     ]
    },
    {
     "data": {
      "application/vnd.jupyter.widget-view+json": {
       "model_id": "143ee0c4e3ec4833a31534c65ebe7c43",
       "version_major": 2,
       "version_minor": 0
      },
      "text/plain": [
       "Epoch 12/100:   0%|          | 0/110 [00:00<?, ?batch/s]"
      ]
     },
     "metadata": {},
     "output_type": "display_data"
    },
    {
     "name": "stdout",
     "output_type": "stream",
     "text": [
      "Epoch 12: train_loss=1.4758 train_acc=59.07% | val_loss=1.4661 val_acc=59.47% | time=32.0s\n",
      "  ✓ New best saved\n"
     ]
    },
    {
     "data": {
      "application/vnd.jupyter.widget-view+json": {
       "model_id": "848495d3b8894417b2c44cc3f102865f",
       "version_major": 2,
       "version_minor": 0
      },
      "text/plain": [
       "Epoch 13/100:   0%|          | 0/110 [00:00<?, ?batch/s]"
      ]
     },
     "metadata": {},
     "output_type": "display_data"
    },
    {
     "name": "stdout",
     "output_type": "stream",
     "text": [
      "Epoch 13: train_loss=1.4588 train_acc=59.01% | val_loss=1.4138 val_acc=61.10% | time=32.0s\n",
      "  ✓ New best saved\n"
     ]
    },
    {
     "data": {
      "application/vnd.jupyter.widget-view+json": {
       "model_id": "5c7f978296f8464196679aaa65944cdf",
       "version_major": 2,
       "version_minor": 0
      },
      "text/plain": [
       "Epoch 14/100:   0%|          | 0/110 [00:00<?, ?batch/s]"
      ]
     },
     "metadata": {},
     "output_type": "display_data"
    },
    {
     "name": "stdout",
     "output_type": "stream",
     "text": [
      "Epoch 14: train_loss=1.4388 train_acc=60.08% | val_loss=1.3997 val_acc=62.60% | time=32.2s\n",
      "  ✓ New best saved\n"
     ]
    },
    {
     "data": {
      "application/vnd.jupyter.widget-view+json": {
       "model_id": "aa5fad9c9e1742fb901b559170eb9df9",
       "version_major": 2,
       "version_minor": 0
      },
      "text/plain": [
       "Epoch 15/100:   0%|          | 0/110 [00:00<?, ?batch/s]"
      ]
     },
     "metadata": {},
     "output_type": "display_data"
    },
    {
     "name": "stdout",
     "output_type": "stream",
     "text": [
      "Epoch 15: train_loss=1.4150 train_acc=60.50% | val_loss=1.4806 val_acc=60.23% | time=31.3s\n"
     ]
    },
    {
     "data": {
      "application/vnd.jupyter.widget-view+json": {
       "model_id": "b35a8e421cb1401eb8421f23e3ca91be",
       "version_major": 2,
       "version_minor": 0
      },
      "text/plain": [
       "Epoch 16/100:   0%|          | 0/110 [00:00<?, ?batch/s]"
      ]
     },
     "metadata": {},
     "output_type": "display_data"
    },
    {
     "name": "stdout",
     "output_type": "stream",
     "text": [
      "Epoch 16: train_loss=1.3877 train_acc=62.01% | val_loss=1.3927 val_acc=62.47% | time=31.9s\n"
     ]
    },
    {
     "data": {
      "application/vnd.jupyter.widget-view+json": {
       "model_id": "99299d063c8240049664c7ca879cef27",
       "version_major": 2,
       "version_minor": 0
      },
      "text/plain": [
       "Epoch 17/100:   0%|          | 0/110 [00:00<?, ?batch/s]"
      ]
     },
     "metadata": {},
     "output_type": "display_data"
    },
    {
     "name": "stdout",
     "output_type": "stream",
     "text": [
      "Epoch 17: train_loss=1.3647 train_acc=62.61% | val_loss=1.3303 val_acc=64.70% | time=32.0s\n",
      "  ✓ New best saved\n"
     ]
    },
    {
     "data": {
      "application/vnd.jupyter.widget-view+json": {
       "model_id": "9ccfe36dafde489583ce6d39e84a1857",
       "version_major": 2,
       "version_minor": 0
      },
      "text/plain": [
       "Epoch 18/100:   0%|          | 0/110 [00:00<?, ?batch/s]"
      ]
     },
     "metadata": {},
     "output_type": "display_data"
    },
    {
     "name": "stdout",
     "output_type": "stream",
     "text": [
      "Epoch 18: train_loss=1.3364 train_acc=63.90% | val_loss=1.3030 val_acc=65.33% | time=31.5s\n",
      "  ✓ New best saved\n"
     ]
    },
    {
     "data": {
      "application/vnd.jupyter.widget-view+json": {
       "model_id": "9ebace1d0543493b871073a7f10ace1a",
       "version_major": 2,
       "version_minor": 0
      },
      "text/plain": [
       "Epoch 19/100:   0%|          | 0/110 [00:00<?, ?batch/s]"
      ]
     },
     "metadata": {},
     "output_type": "display_data"
    },
    {
     "name": "stdout",
     "output_type": "stream",
     "text": [
      "Epoch 19: train_loss=1.3005 train_acc=65.28% | val_loss=1.2413 val_acc=67.90% | time=31.6s\n",
      "  ✓ New best saved\n"
     ]
    },
    {
     "data": {
      "application/vnd.jupyter.widget-view+json": {
       "model_id": "e4d461b2f08c4962b90aa14e37bf2268",
       "version_major": 2,
       "version_minor": 0
      },
      "text/plain": [
       "Epoch 20/100:   0%|          | 0/110 [00:00<?, ?batch/s]"
      ]
     },
     "metadata": {},
     "output_type": "display_data"
    },
    {
     "name": "stdout",
     "output_type": "stream",
     "text": [
      "Epoch 20: train_loss=1.2881 train_acc=65.56% | val_loss=1.2585 val_acc=66.20% | time=31.9s\n"
     ]
    },
    {
     "data": {
      "application/vnd.jupyter.widget-view+json": {
       "model_id": "40548d9edc0c4f0a87ad34f12c318cbd",
       "version_major": 2,
       "version_minor": 0
      },
      "text/plain": [
       "Epoch 21/100:   0%|          | 0/110 [00:00<?, ?batch/s]"
      ]
     },
     "metadata": {},
     "output_type": "display_data"
    },
    {
     "name": "stdout",
     "output_type": "stream",
     "text": [
      "Epoch 21: train_loss=1.2629 train_acc=66.80% | val_loss=1.2114 val_acc=68.57% | time=32.0s\n",
      "  ✓ New best saved\n"
     ]
    },
    {
     "data": {
      "application/vnd.jupyter.widget-view+json": {
       "model_id": "e47c6c47eff34986874bad71f68d26a7",
       "version_major": 2,
       "version_minor": 0
      },
      "text/plain": [
       "Epoch 22/100:   0%|          | 0/110 [00:00<?, ?batch/s]"
      ]
     },
     "metadata": {},
     "output_type": "display_data"
    },
    {
     "name": "stdout",
     "output_type": "stream",
     "text": [
      "Epoch 22: train_loss=1.2480 train_acc=67.26% | val_loss=1.3989 val_acc=61.50% | time=31.7s\n"
     ]
    },
    {
     "data": {
      "application/vnd.jupyter.widget-view+json": {
       "model_id": "440c36e04d234ce989a1219b176ce0ba",
       "version_major": 2,
       "version_minor": 0
      },
      "text/plain": [
       "Epoch 23/100:   0%|          | 0/110 [00:00<?, ?batch/s]"
      ]
     },
     "metadata": {},
     "output_type": "display_data"
    },
    {
     "name": "stdout",
     "output_type": "stream",
     "text": [
      "Epoch 23: train_loss=1.2281 train_acc=67.91% | val_loss=1.3430 val_acc=63.70% | time=31.8s\n"
     ]
    },
    {
     "data": {
      "application/vnd.jupyter.widget-view+json": {
       "model_id": "8adb9bea84724a32ab2afa65ed5971c5",
       "version_major": 2,
       "version_minor": 0
      },
      "text/plain": [
       "Epoch 24/100:   0%|          | 0/110 [00:00<?, ?batch/s]"
      ]
     },
     "metadata": {},
     "output_type": "display_data"
    },
    {
     "name": "stdout",
     "output_type": "stream",
     "text": [
      "Epoch 24: train_loss=1.2176 train_acc=68.33% | val_loss=1.1813 val_acc=69.10% | time=31.7s\n",
      "  ✓ New best saved\n"
     ]
    },
    {
     "data": {
      "application/vnd.jupyter.widget-view+json": {
       "model_id": "08de1caa773b40d8a0e44961cd8c87bd",
       "version_major": 2,
       "version_minor": 0
      },
      "text/plain": [
       "Epoch 25/100:   0%|          | 0/110 [00:00<?, ?batch/s]"
      ]
     },
     "metadata": {},
     "output_type": "display_data"
    },
    {
     "name": "stdout",
     "output_type": "stream",
     "text": [
      "Epoch 25: train_loss=1.2107 train_acc=68.26% | val_loss=1.1893 val_acc=70.10% | time=31.6s\n",
      "  ✓ New best saved\n"
     ]
    },
    {
     "data": {
      "application/vnd.jupyter.widget-view+json": {
       "model_id": "d65c7b14beb145a8a3be1a4d5609d904",
       "version_major": 2,
       "version_minor": 0
      },
      "text/plain": [
       "Epoch 26/100:   0%|          | 0/110 [00:00<?, ?batch/s]"
      ]
     },
     "metadata": {},
     "output_type": "display_data"
    },
    {
     "name": "stdout",
     "output_type": "stream",
     "text": [
      "Epoch 26: train_loss=1.1986 train_acc=68.79% | val_loss=1.2044 val_acc=68.67% | time=31.9s\n"
     ]
    },
    {
     "data": {
      "application/vnd.jupyter.widget-view+json": {
       "model_id": "c0f0e6af338046e4bbd6c83db01ae24e",
       "version_major": 2,
       "version_minor": 0
      },
      "text/plain": [
       "Epoch 27/100:   0%|          | 0/110 [00:00<?, ?batch/s]"
      ]
     },
     "metadata": {},
     "output_type": "display_data"
    },
    {
     "name": "stdout",
     "output_type": "stream",
     "text": [
      "Epoch 27: train_loss=1.1884 train_acc=69.01% | val_loss=1.2680 val_acc=66.30% | time=31.7s\n"
     ]
    },
    {
     "data": {
      "application/vnd.jupyter.widget-view+json": {
       "model_id": "432814f67311448ca9bc0a2cdc65f2b0",
       "version_major": 2,
       "version_minor": 0
      },
      "text/plain": [
       "Epoch 28/100:   0%|          | 0/110 [00:00<?, ?batch/s]"
      ]
     },
     "metadata": {},
     "output_type": "display_data"
    },
    {
     "name": "stdout",
     "output_type": "stream",
     "text": [
      "Epoch 28: train_loss=1.1779 train_acc=69.30% | val_loss=1.2648 val_acc=66.97% | time=31.8s\n"
     ]
    },
    {
     "data": {
      "application/vnd.jupyter.widget-view+json": {
       "model_id": "11ce547e63cc4a66933c69360ff7c222",
       "version_major": 2,
       "version_minor": 0
      },
      "text/plain": [
       "Epoch 29/100:   0%|          | 0/110 [00:00<?, ?batch/s]"
      ]
     },
     "metadata": {},
     "output_type": "display_data"
    },
    {
     "name": "stdout",
     "output_type": "stream",
     "text": [
      "Epoch 29: train_loss=1.1714 train_acc=69.79% | val_loss=1.1283 val_acc=71.80% | time=31.7s\n",
      "  ✓ New best saved\n"
     ]
    },
    {
     "data": {
      "application/vnd.jupyter.widget-view+json": {
       "model_id": "d2a91ee8f4494eaeb1a4497ab459f6fd",
       "version_major": 2,
       "version_minor": 0
      },
      "text/plain": [
       "Epoch 30/100:   0%|          | 0/110 [00:00<?, ?batch/s]"
      ]
     },
     "metadata": {},
     "output_type": "display_data"
    },
    {
     "name": "stdout",
     "output_type": "stream",
     "text": [
      "Epoch 30: train_loss=1.1570 train_acc=70.09% | val_loss=1.1265 val_acc=71.33% | time=31.6s\n"
     ]
    },
    {
     "data": {
      "application/vnd.jupyter.widget-view+json": {
       "model_id": "df46027136474ba6a04418a4381bf450",
       "version_major": 2,
       "version_minor": 0
      },
      "text/plain": [
       "Epoch 31/100:   0%|          | 0/110 [00:00<?, ?batch/s]"
      ]
     },
     "metadata": {},
     "output_type": "display_data"
    },
    {
     "name": "stdout",
     "output_type": "stream",
     "text": [
      "Epoch 31: train_loss=1.1552 train_acc=70.15% | val_loss=1.1476 val_acc=70.20% | time=31.3s\n"
     ]
    },
    {
     "data": {
      "application/vnd.jupyter.widget-view+json": {
       "model_id": "69f38512027e4de08e3a74874536ea55",
       "version_major": 2,
       "version_minor": 0
      },
      "text/plain": [
       "Epoch 32/100:   0%|          | 0/110 [00:00<?, ?batch/s]"
      ]
     },
     "metadata": {},
     "output_type": "display_data"
    },
    {
     "name": "stdout",
     "output_type": "stream",
     "text": [
      "Epoch 32: train_loss=1.1495 train_acc=70.87% | val_loss=1.1501 val_acc=70.40% | time=31.8s\n"
     ]
    },
    {
     "data": {
      "application/vnd.jupyter.widget-view+json": {
       "model_id": "7611b71e69e64235aa9f12733fee80d8",
       "version_major": 2,
       "version_minor": 0
      },
      "text/plain": [
       "Epoch 33/100:   0%|          | 0/110 [00:00<?, ?batch/s]"
      ]
     },
     "metadata": {},
     "output_type": "display_data"
    },
    {
     "name": "stdout",
     "output_type": "stream",
     "text": [
      "Epoch 33: train_loss=1.1401 train_acc=70.44% | val_loss=1.1086 val_acc=72.10% | time=31.8s\n",
      "  ✓ New best saved\n"
     ]
    },
    {
     "data": {
      "application/vnd.jupyter.widget-view+json": {
       "model_id": "375dd4bfb25048d0a731dffbb8599857",
       "version_major": 2,
       "version_minor": 0
      },
      "text/plain": [
       "Epoch 34/100:   0%|          | 0/110 [00:00<?, ?batch/s]"
      ]
     },
     "metadata": {},
     "output_type": "display_data"
    },
    {
     "name": "stdout",
     "output_type": "stream",
     "text": [
      "Epoch 34: train_loss=1.1317 train_acc=71.32% | val_loss=1.1697 val_acc=69.47% | time=31.5s\n"
     ]
    },
    {
     "data": {
      "application/vnd.jupyter.widget-view+json": {
       "model_id": "77a18d16b15a41ffaf84cd99a76fc6dc",
       "version_major": 2,
       "version_minor": 0
      },
      "text/plain": [
       "Epoch 35/100:   0%|          | 0/110 [00:00<?, ?batch/s]"
      ]
     },
     "metadata": {},
     "output_type": "display_data"
    },
    {
     "name": "stdout",
     "output_type": "stream",
     "text": [
      "Epoch 35: train_loss=1.1273 train_acc=70.76% | val_loss=1.1249 val_acc=71.13% | time=32.5s\n"
     ]
    },
    {
     "data": {
      "application/vnd.jupyter.widget-view+json": {
       "model_id": "895a2c799abd4064aa30d31c1d052759",
       "version_major": 2,
       "version_minor": 0
      },
      "text/plain": [
       "Epoch 36/100:   0%|          | 0/110 [00:00<?, ?batch/s]"
      ]
     },
     "metadata": {},
     "output_type": "display_data"
    },
    {
     "name": "stdout",
     "output_type": "stream",
     "text": [
      "Epoch 36: train_loss=1.1232 train_acc=71.06% | val_loss=1.1252 val_acc=71.23% | time=31.4s\n"
     ]
    },
    {
     "data": {
      "application/vnd.jupyter.widget-view+json": {
       "model_id": "446cabd914624ac7b9d7ddc57362d721",
       "version_major": 2,
       "version_minor": 0
      },
      "text/plain": [
       "Epoch 37/100:   0%|          | 0/110 [00:00<?, ?batch/s]"
      ]
     },
     "metadata": {},
     "output_type": "display_data"
    },
    {
     "name": "stdout",
     "output_type": "stream",
     "text": [
      "Epoch 37: train_loss=1.1148 train_acc=71.57% | val_loss=1.1584 val_acc=71.23% | time=31.3s\n"
     ]
    },
    {
     "data": {
      "application/vnd.jupyter.widget-view+json": {
       "model_id": "c442f24f48844fafa33355ffda482a87",
       "version_major": 2,
       "version_minor": 0
      },
      "text/plain": [
       "Epoch 38/100:   0%|          | 0/110 [00:00<?, ?batch/s]"
      ]
     },
     "metadata": {},
     "output_type": "display_data"
    },
    {
     "name": "stdout",
     "output_type": "stream",
     "text": [
      "Epoch 38: train_loss=1.1104 train_acc=71.79% | val_loss=1.1166 val_acc=71.37% | time=31.7s\n"
     ]
    },
    {
     "data": {
      "application/vnd.jupyter.widget-view+json": {
       "model_id": "2f64f2037cfb45e1805f17ec83fd5570",
       "version_major": 2,
       "version_minor": 0
      },
      "text/plain": [
       "Epoch 39/100:   0%|          | 0/110 [00:00<?, ?batch/s]"
      ]
     },
     "metadata": {},
     "output_type": "display_data"
    },
    {
     "name": "stdout",
     "output_type": "stream",
     "text": [
      "Epoch 39: train_loss=1.1046 train_acc=71.49% | val_loss=1.1101 val_acc=72.07% | time=31.6s\n"
     ]
    },
    {
     "data": {
      "application/vnd.jupyter.widget-view+json": {
       "model_id": "34b046ccd6224efcab4f9a6b7b93a3ba",
       "version_major": 2,
       "version_minor": 0
      },
      "text/plain": [
       "Epoch 40/100:   0%|          | 0/110 [00:00<?, ?batch/s]"
      ]
     },
     "metadata": {},
     "output_type": "display_data"
    },
    {
     "name": "stdout",
     "output_type": "stream",
     "text": [
      "Epoch 40: train_loss=1.0934 train_acc=72.15% | val_loss=1.0998 val_acc=72.30% | time=31.3s\n",
      "  ✓ New best saved\n"
     ]
    },
    {
     "data": {
      "application/vnd.jupyter.widget-view+json": {
       "model_id": "169739a11c93486aa384d4f094f1c083",
       "version_major": 2,
       "version_minor": 0
      },
      "text/plain": [
       "Epoch 41/100:   0%|          | 0/110 [00:00<?, ?batch/s]"
      ]
     },
     "metadata": {},
     "output_type": "display_data"
    },
    {
     "name": "stdout",
     "output_type": "stream",
     "text": [
      "Epoch 41: train_loss=1.0916 train_acc=71.86% | val_loss=1.3414 val_acc=65.27% | time=32.7s\n"
     ]
    },
    {
     "data": {
      "application/vnd.jupyter.widget-view+json": {
       "model_id": "a49d492f71e34d46879eb6b553281ee8",
       "version_major": 2,
       "version_minor": 0
      },
      "text/plain": [
       "Epoch 42/100:   0%|          | 0/110 [00:00<?, ?batch/s]"
      ]
     },
     "metadata": {},
     "output_type": "display_data"
    },
    {
     "name": "stdout",
     "output_type": "stream",
     "text": [
      "Epoch 42: train_loss=1.0904 train_acc=72.41% | val_loss=1.1201 val_acc=70.53% | time=32.5s\n"
     ]
    },
    {
     "data": {
      "application/vnd.jupyter.widget-view+json": {
       "model_id": "bc0c51038cae492b84f1463bc66f569d",
       "version_major": 2,
       "version_minor": 0
      },
      "text/plain": [
       "Epoch 43/100:   0%|          | 0/110 [00:00<?, ?batch/s]"
      ]
     },
     "metadata": {},
     "output_type": "display_data"
    },
    {
     "name": "stdout",
     "output_type": "stream",
     "text": [
      "Epoch 43: train_loss=1.0861 train_acc=72.27% | val_loss=1.1008 val_acc=71.83% | time=32.5s\n"
     ]
    },
    {
     "data": {
      "application/vnd.jupyter.widget-view+json": {
       "model_id": "0732f69f2ff94320a3afbf32cf89ce40",
       "version_major": 2,
       "version_minor": 0
      },
      "text/plain": [
       "Epoch 44/100:   0%|          | 0/110 [00:00<?, ?batch/s]"
      ]
     },
     "metadata": {},
     "output_type": "display_data"
    },
    {
     "name": "stdout",
     "output_type": "stream",
     "text": [
      "Epoch 44: train_loss=1.0789 train_acc=72.69% | val_loss=1.1157 val_acc=70.90% | time=31.8s\n"
     ]
    },
    {
     "data": {
      "application/vnd.jupyter.widget-view+json": {
       "model_id": "0b5a034633b74749b5f45e39139bf91d",
       "version_major": 2,
       "version_minor": 0
      },
      "text/plain": [
       "Epoch 45/100:   0%|          | 0/110 [00:00<?, ?batch/s]"
      ]
     },
     "metadata": {},
     "output_type": "display_data"
    },
    {
     "name": "stdout",
     "output_type": "stream",
     "text": [
      "Epoch 45: train_loss=1.0689 train_acc=73.03% | val_loss=1.0979 val_acc=72.40% | time=34.4s\n",
      "  ✓ New best saved\n"
     ]
    },
    {
     "data": {
      "application/vnd.jupyter.widget-view+json": {
       "model_id": "7efbc57f84e44c4c880b6eb5b067cc94",
       "version_major": 2,
       "version_minor": 0
      },
      "text/plain": [
       "Epoch 46/100:   0%|          | 0/110 [00:00<?, ?batch/s]"
      ]
     },
     "metadata": {},
     "output_type": "display_data"
    },
    {
     "name": "stdout",
     "output_type": "stream",
     "text": [
      "Epoch 46: train_loss=1.0665 train_acc=72.95% | val_loss=1.0950 val_acc=71.93% | time=33.5s\n"
     ]
    },
    {
     "data": {
      "application/vnd.jupyter.widget-view+json": {
       "model_id": "b7db823f4e264d3388a09da2c0833113",
       "version_major": 2,
       "version_minor": 0
      },
      "text/plain": [
       "Epoch 47/100:   0%|          | 0/110 [00:00<?, ?batch/s]"
      ]
     },
     "metadata": {},
     "output_type": "display_data"
    },
    {
     "name": "stdout",
     "output_type": "stream",
     "text": [
      "Epoch 47: train_loss=1.0646 train_acc=73.23% | val_loss=1.2496 val_acc=67.87% | time=31.4s\n"
     ]
    },
    {
     "data": {
      "application/vnd.jupyter.widget-view+json": {
       "model_id": "b836794b2f4148e7a042869ca9a243e2",
       "version_major": 2,
       "version_minor": 0
      },
      "text/plain": [
       "Epoch 48/100:   0%|          | 0/110 [00:00<?, ?batch/s]"
      ]
     },
     "metadata": {},
     "output_type": "display_data"
    },
    {
     "name": "stdout",
     "output_type": "stream",
     "text": [
      "Epoch 48: train_loss=1.0598 train_acc=73.56% | val_loss=1.0812 val_acc=72.57% | time=31.8s\n",
      "  ✓ New best saved\n"
     ]
    },
    {
     "data": {
      "application/vnd.jupyter.widget-view+json": {
       "model_id": "ec4c375761ee4f46bfd2e51a54c472ac",
       "version_major": 2,
       "version_minor": 0
      },
      "text/plain": [
       "Epoch 49/100:   0%|          | 0/110 [00:00<?, ?batch/s]"
      ]
     },
     "metadata": {},
     "output_type": "display_data"
    },
    {
     "name": "stdout",
     "output_type": "stream",
     "text": [
      "Epoch 49: train_loss=1.0559 train_acc=73.42% | val_loss=1.0847 val_acc=71.93% | time=32.4s\n"
     ]
    },
    {
     "data": {
      "application/vnd.jupyter.widget-view+json": {
       "model_id": "323833841e9548e3bb9eb9655d29cb5e",
       "version_major": 2,
       "version_minor": 0
      },
      "text/plain": [
       "Epoch 50/100:   0%|          | 0/110 [00:00<?, ?batch/s]"
      ]
     },
     "metadata": {},
     "output_type": "display_data"
    },
    {
     "name": "stdout",
     "output_type": "stream",
     "text": [
      "Epoch 50: train_loss=1.0499 train_acc=73.63% | val_loss=1.3120 val_acc=66.70% | time=32.5s\n"
     ]
    },
    {
     "data": {
      "application/vnd.jupyter.widget-view+json": {
       "model_id": "230cd0f52d954e71aa6dbfe50464f605",
       "version_major": 2,
       "version_minor": 0
      },
      "text/plain": [
       "Epoch 51/100:   0%|          | 0/110 [00:00<?, ?batch/s]"
      ]
     },
     "metadata": {},
     "output_type": "display_data"
    },
    {
     "name": "stdout",
     "output_type": "stream",
     "text": [
      "Epoch 51: train_loss=1.0552 train_acc=73.16% | val_loss=1.1057 val_acc=71.03% | time=35.1s\n"
     ]
    },
    {
     "data": {
      "application/vnd.jupyter.widget-view+json": {
       "model_id": "fd17f133621d4a8482725b0dbf2f103e",
       "version_major": 2,
       "version_minor": 0
      },
      "text/plain": [
       "Epoch 52/100:   0%|          | 0/110 [00:00<?, ?batch/s]"
      ]
     },
     "metadata": {},
     "output_type": "display_data"
    },
    {
     "name": "stdout",
     "output_type": "stream",
     "text": [
      "Epoch 52: train_loss=1.0398 train_acc=74.24% | val_loss=1.0801 val_acc=72.83% | time=36.0s\n",
      "  ✓ New best saved\n"
     ]
    },
    {
     "data": {
      "application/vnd.jupyter.widget-view+json": {
       "model_id": "135f1ed56ed04c20a71e5e454cc7d0d9",
       "version_major": 2,
       "version_minor": 0
      },
      "text/plain": [
       "Epoch 53/100:   0%|          | 0/110 [00:00<?, ?batch/s]"
      ]
     },
     "metadata": {},
     "output_type": "display_data"
    },
    {
     "name": "stdout",
     "output_type": "stream",
     "text": [
      "Epoch 53: train_loss=1.0458 train_acc=73.83% | val_loss=1.0704 val_acc=72.83% | time=33.8s\n"
     ]
    },
    {
     "data": {
      "application/vnd.jupyter.widget-view+json": {
       "model_id": "40713179eff24e2f92369f7710e8c0e7",
       "version_major": 2,
       "version_minor": 0
      },
      "text/plain": [
       "Epoch 54/100:   0%|          | 0/110 [00:00<?, ?batch/s]"
      ]
     },
     "metadata": {},
     "output_type": "display_data"
    },
    {
     "name": "stdout",
     "output_type": "stream",
     "text": [
      "Epoch 54: train_loss=1.0346 train_acc=73.75% | val_loss=1.0841 val_acc=71.97% | time=32.0s\n"
     ]
    },
    {
     "data": {
      "application/vnd.jupyter.widget-view+json": {
       "model_id": "1665fcec319c4feca8662eefa9e4db0e",
       "version_major": 2,
       "version_minor": 0
      },
      "text/plain": [
       "Epoch 55/100:   0%|          | 0/110 [00:00<?, ?batch/s]"
      ]
     },
     "metadata": {},
     "output_type": "display_data"
    },
    {
     "name": "stdout",
     "output_type": "stream",
     "text": [
      "Epoch 55: train_loss=1.0336 train_acc=74.43% | val_loss=1.0796 val_acc=71.93% | time=33.0s\n"
     ]
    },
    {
     "data": {
      "application/vnd.jupyter.widget-view+json": {
       "model_id": "9c1fd5fa3e7d4e578ca7319e4222f70c",
       "version_major": 2,
       "version_minor": 0
      },
      "text/plain": [
       "Epoch 56/100:   0%|          | 0/110 [00:00<?, ?batch/s]"
      ]
     },
     "metadata": {},
     "output_type": "display_data"
    },
    {
     "name": "stdout",
     "output_type": "stream",
     "text": [
      "Epoch 56: train_loss=1.0308 train_acc=74.18% | val_loss=1.1053 val_acc=71.57% | time=31.7s\n"
     ]
    },
    {
     "data": {
      "application/vnd.jupyter.widget-view+json": {
       "model_id": "6c8d71c907404cde9c62dce1558905f4",
       "version_major": 2,
       "version_minor": 0
      },
      "text/plain": [
       "Epoch 57/100:   0%|          | 0/110 [00:00<?, ?batch/s]"
      ]
     },
     "metadata": {},
     "output_type": "display_data"
    },
    {
     "name": "stdout",
     "output_type": "stream",
     "text": [
      "Epoch 57: train_loss=1.0265 train_acc=74.48% | val_loss=1.1557 val_acc=70.17% | time=30.1s\n"
     ]
    },
    {
     "data": {
      "application/vnd.jupyter.widget-view+json": {
       "model_id": "4c01dc189e584f81907f9dc673c44726",
       "version_major": 2,
       "version_minor": 0
      },
      "text/plain": [
       "Epoch 58/100:   0%|          | 0/110 [00:00<?, ?batch/s]"
      ]
     },
     "metadata": {},
     "output_type": "display_data"
    },
    {
     "name": "stdout",
     "output_type": "stream",
     "text": [
      "Epoch 58: train_loss=1.0235 train_acc=74.41% | val_loss=1.0736 val_acc=73.43% | time=32.2s\n",
      "  ✓ New best saved\n"
     ]
    },
    {
     "data": {
      "application/vnd.jupyter.widget-view+json": {
       "model_id": "3d3b9e36a1f64937b782179847be311b",
       "version_major": 2,
       "version_minor": 0
      },
      "text/plain": [
       "Epoch 59/100:   0%|          | 0/110 [00:00<?, ?batch/s]"
      ]
     },
     "metadata": {},
     "output_type": "display_data"
    },
    {
     "name": "stdout",
     "output_type": "stream",
     "text": [
      "Epoch 59: train_loss=1.0105 train_acc=74.92% | val_loss=1.0757 val_acc=72.10% | time=31.5s\n"
     ]
    },
    {
     "data": {
      "application/vnd.jupyter.widget-view+json": {
       "model_id": "d3852b0611e04b66b178695699375953",
       "version_major": 2,
       "version_minor": 0
      },
      "text/plain": [
       "Epoch 60/100:   0%|          | 0/110 [00:00<?, ?batch/s]"
      ]
     },
     "metadata": {},
     "output_type": "display_data"
    },
    {
     "name": "stdout",
     "output_type": "stream",
     "text": [
      "Epoch 60: train_loss=1.0143 train_acc=74.66% | val_loss=1.1899 val_acc=70.67% | time=30.4s\n"
     ]
    },
    {
     "data": {
      "application/vnd.jupyter.widget-view+json": {
       "model_id": "55948e97527347508f2bbf25183e8e60",
       "version_major": 2,
       "version_minor": 0
      },
      "text/plain": [
       "Epoch 61/100:   0%|          | 0/110 [00:00<?, ?batch/s]"
      ]
     },
     "metadata": {},
     "output_type": "display_data"
    },
    {
     "name": "stdout",
     "output_type": "stream",
     "text": [
      "Epoch 61: train_loss=1.0041 train_acc=74.85% | val_loss=1.1421 val_acc=71.03% | time=33.0s\n"
     ]
    },
    {
     "data": {
      "application/vnd.jupyter.widget-view+json": {
       "model_id": "88626565c5f94f78a86f23bf5a385f4f",
       "version_major": 2,
       "version_minor": 0
      },
      "text/plain": [
       "Epoch 62/100:   0%|          | 0/110 [00:00<?, ?batch/s]"
      ]
     },
     "metadata": {},
     "output_type": "display_data"
    },
    {
     "name": "stdout",
     "output_type": "stream",
     "text": [
      "Epoch 62: train_loss=1.0080 train_acc=75.19% | val_loss=1.1040 val_acc=72.20% | time=31.7s\n"
     ]
    },
    {
     "data": {
      "application/vnd.jupyter.widget-view+json": {
       "model_id": "d98447434f0844c5a2f5d0fd44af219c",
       "version_major": 2,
       "version_minor": 0
      },
      "text/plain": [
       "Epoch 63/100:   0%|          | 0/110 [00:00<?, ?batch/s]"
      ]
     },
     "metadata": {},
     "output_type": "display_data"
    },
    {
     "name": "stdout",
     "output_type": "stream",
     "text": [
      "Epoch 63: train_loss=1.0033 train_acc=75.44% | val_loss=1.1052 val_acc=72.73% | time=30.4s\n"
     ]
    },
    {
     "data": {
      "application/vnd.jupyter.widget-view+json": {
       "model_id": "86680b6b8b5f439eac4025e1434be635",
       "version_major": 2,
       "version_minor": 0
      },
      "text/plain": [
       "Epoch 64/100:   0%|          | 0/110 [00:00<?, ?batch/s]"
      ]
     },
     "metadata": {},
     "output_type": "display_data"
    },
    {
     "name": "stdout",
     "output_type": "stream",
     "text": [
      "Epoch 64: train_loss=1.0058 train_acc=74.86% | val_loss=1.0453 val_acc=73.37% | time=32.5s\n"
     ]
    },
    {
     "data": {
      "application/vnd.jupyter.widget-view+json": {
       "model_id": "a8c6f1f5938842e7a84ab36567f28dfd",
       "version_major": 2,
       "version_minor": 0
      },
      "text/plain": [
       "Epoch 65/100:   0%|          | 0/110 [00:00<?, ?batch/s]"
      ]
     },
     "metadata": {},
     "output_type": "display_data"
    },
    {
     "name": "stdout",
     "output_type": "stream",
     "text": [
      "Epoch 65: train_loss=0.9933 train_acc=75.51% | val_loss=1.0563 val_acc=73.30% | time=32.9s\n"
     ]
    },
    {
     "data": {
      "application/vnd.jupyter.widget-view+json": {
       "model_id": "43d8675082d94c33870b3a81ae7b9a00",
       "version_major": 2,
       "version_minor": 0
      },
      "text/plain": [
       "Epoch 66/100:   0%|          | 0/110 [00:00<?, ?batch/s]"
      ]
     },
     "metadata": {},
     "output_type": "display_data"
    },
    {
     "name": "stdout",
     "output_type": "stream",
     "text": [
      "Epoch 66: train_loss=0.9855 train_acc=75.73% | val_loss=1.5628 val_acc=62.10% | time=33.5s\n"
     ]
    },
    {
     "data": {
      "application/vnd.jupyter.widget-view+json": {
       "model_id": "6a4a0954ccd2473788472da663117310",
       "version_major": 2,
       "version_minor": 0
      },
      "text/plain": [
       "Epoch 67/100:   0%|          | 0/110 [00:00<?, ?batch/s]"
      ]
     },
     "metadata": {},
     "output_type": "display_data"
    },
    {
     "name": "stdout",
     "output_type": "stream",
     "text": [
      "Epoch 67: train_loss=0.9868 train_acc=75.41% | val_loss=1.0501 val_acc=73.77% | time=35.0s\n",
      "  ✓ New best saved\n"
     ]
    },
    {
     "data": {
      "application/vnd.jupyter.widget-view+json": {
       "model_id": "5b28c4f01a564f7194e45cbe61d3ce71",
       "version_major": 2,
       "version_minor": 0
      },
      "text/plain": [
       "Epoch 68/100:   0%|          | 0/110 [00:00<?, ?batch/s]"
      ]
     },
     "metadata": {},
     "output_type": "display_data"
    },
    {
     "name": "stdout",
     "output_type": "stream",
     "text": [
      "Epoch 68: train_loss=0.9883 train_acc=75.81% | val_loss=1.1110 val_acc=72.27% | time=33.3s\n"
     ]
    },
    {
     "data": {
      "application/vnd.jupyter.widget-view+json": {
       "model_id": "02ddac31df714c3bafee298d49e913f0",
       "version_major": 2,
       "version_minor": 0
      },
      "text/plain": [
       "Epoch 69/100:   0%|          | 0/110 [00:00<?, ?batch/s]"
      ]
     },
     "metadata": {},
     "output_type": "display_data"
    },
    {
     "name": "stdout",
     "output_type": "stream",
     "text": [
      "Epoch 69: train_loss=0.9744 train_acc=76.16% | val_loss=1.0491 val_acc=74.17% | time=31.2s\n",
      "  ✓ New best saved\n"
     ]
    },
    {
     "data": {
      "application/vnd.jupyter.widget-view+json": {
       "model_id": "892d26fc12a745a78eacaa75ff538791",
       "version_major": 2,
       "version_minor": 0
      },
      "text/plain": [
       "Epoch 70/100:   0%|          | 0/110 [00:00<?, ?batch/s]"
      ]
     },
     "metadata": {},
     "output_type": "display_data"
    },
    {
     "name": "stdout",
     "output_type": "stream",
     "text": [
      "Epoch 70: train_loss=0.9732 train_acc=76.04% | val_loss=1.0872 val_acc=72.30% | time=33.2s\n"
     ]
    },
    {
     "data": {
      "application/vnd.jupyter.widget-view+json": {
       "model_id": "1980165606444794a77a46e8865d2a25",
       "version_major": 2,
       "version_minor": 0
      },
      "text/plain": [
       "Epoch 71/100:   0%|          | 0/110 [00:00<?, ?batch/s]"
      ]
     },
     "metadata": {},
     "output_type": "display_data"
    },
    {
     "name": "stdout",
     "output_type": "stream",
     "text": [
      "Epoch 71: train_loss=0.9774 train_acc=76.24% | val_loss=1.0813 val_acc=72.60% | time=32.5s\n"
     ]
    },
    {
     "data": {
      "application/vnd.jupyter.widget-view+json": {
       "model_id": "2fe4b20016444b579ed8b5a919267028",
       "version_major": 2,
       "version_minor": 0
      },
      "text/plain": [
       "Epoch 72/100:   0%|          | 0/110 [00:00<?, ?batch/s]"
      ]
     },
     "metadata": {},
     "output_type": "display_data"
    },
    {
     "name": "stdout",
     "output_type": "stream",
     "text": [
      "Epoch 72: train_loss=0.9653 train_acc=76.23% | val_loss=1.2586 val_acc=68.70% | time=36.4s\n"
     ]
    },
    {
     "data": {
      "application/vnd.jupyter.widget-view+json": {
       "model_id": "8cc4eada5be54ab68da23d68a17ff7b3",
       "version_major": 2,
       "version_minor": 0
      },
      "text/plain": [
       "Epoch 73/100:   0%|          | 0/110 [00:00<?, ?batch/s]"
      ]
     },
     "metadata": {},
     "output_type": "display_data"
    },
    {
     "name": "stdout",
     "output_type": "stream",
     "text": [
      "Epoch 73: train_loss=0.9678 train_acc=76.27% | val_loss=1.0633 val_acc=72.60% | time=32.8s\n"
     ]
    },
    {
     "data": {
      "application/vnd.jupyter.widget-view+json": {
       "model_id": "877791d71e634ba18119d65461c55f20",
       "version_major": 2,
       "version_minor": 0
      },
      "text/plain": [
       "Epoch 74/100:   0%|          | 0/110 [00:00<?, ?batch/s]"
      ]
     },
     "metadata": {},
     "output_type": "display_data"
    },
    {
     "name": "stdout",
     "output_type": "stream",
     "text": [
      "Epoch 74: train_loss=0.9668 train_acc=76.34% | val_loss=1.0458 val_acc=73.17% | time=33.2s\n"
     ]
    },
    {
     "data": {
      "application/vnd.jupyter.widget-view+json": {
       "model_id": "d99472a982274bfcb580c85602305b06",
       "version_major": 2,
       "version_minor": 0
      },
      "text/plain": [
       "Epoch 75/100:   0%|          | 0/110 [00:00<?, ?batch/s]"
      ]
     },
     "metadata": {},
     "output_type": "display_data"
    },
    {
     "name": "stdout",
     "output_type": "stream",
     "text": [
      "Epoch 75: train_loss=0.9548 train_acc=77.01% | val_loss=1.0472 val_acc=73.33% | time=31.1s\n"
     ]
    },
    {
     "data": {
      "application/vnd.jupyter.widget-view+json": {
       "model_id": "a052dcb7e4ae483b84bb68f81d725b0d",
       "version_major": 2,
       "version_minor": 0
      },
      "text/plain": [
       "Epoch 76/100:   0%|          | 0/110 [00:00<?, ?batch/s]"
      ]
     },
     "metadata": {},
     "output_type": "display_data"
    },
    {
     "name": "stdout",
     "output_type": "stream",
     "text": [
      "Epoch 76: train_loss=0.9647 train_acc=76.56% | val_loss=1.0480 val_acc=73.90% | time=31.8s\n"
     ]
    },
    {
     "data": {
      "application/vnd.jupyter.widget-view+json": {
       "model_id": "a458dafa784a4ef69a64ad85f08012f4",
       "version_major": 2,
       "version_minor": 0
      },
      "text/plain": [
       "Epoch 77/100:   0%|          | 0/110 [00:00<?, ?batch/s]"
      ]
     },
     "metadata": {},
     "output_type": "display_data"
    },
    {
     "name": "stdout",
     "output_type": "stream",
     "text": [
      "Epoch 77: train_loss=0.9574 train_acc=76.73% | val_loss=1.0665 val_acc=72.73% | time=35.0s\n"
     ]
    },
    {
     "data": {
      "application/vnd.jupyter.widget-view+json": {
       "model_id": "dc1e10426e4c43dfad93f8ba1900b426",
       "version_major": 2,
       "version_minor": 0
      },
      "text/plain": [
       "Epoch 78/100:   0%|          | 0/110 [00:00<?, ?batch/s]"
      ]
     },
     "metadata": {},
     "output_type": "display_data"
    },
    {
     "name": "stdout",
     "output_type": "stream",
     "text": [
      "Epoch 78: train_loss=0.9501 train_acc=76.89% | val_loss=1.0398 val_acc=73.73% | time=34.6s\n"
     ]
    },
    {
     "data": {
      "application/vnd.jupyter.widget-view+json": {
       "model_id": "e360b08ff0e64bb0ad062534e59b09a0",
       "version_major": 2,
       "version_minor": 0
      },
      "text/plain": [
       "Epoch 79/100:   0%|          | 0/110 [00:00<?, ?batch/s]"
      ]
     },
     "metadata": {},
     "output_type": "display_data"
    },
    {
     "name": "stdout",
     "output_type": "stream",
     "text": [
      "Epoch 79: train_loss=0.9470 train_acc=77.14% | val_loss=1.0613 val_acc=73.13% | time=33.2s\n"
     ]
    },
    {
     "data": {
      "application/vnd.jupyter.widget-view+json": {
       "model_id": "fb61a5fc0b9849b79d4dca7dfedd107c",
       "version_major": 2,
       "version_minor": 0
      },
      "text/plain": [
       "Epoch 80/100:   0%|          | 0/110 [00:00<?, ?batch/s]"
      ]
     },
     "metadata": {},
     "output_type": "display_data"
    },
    {
     "name": "stdout",
     "output_type": "stream",
     "text": [
      "Epoch 80: train_loss=0.9442 train_acc=77.06% | val_loss=1.1054 val_acc=72.00% | time=32.9s\n"
     ]
    },
    {
     "data": {
      "application/vnd.jupyter.widget-view+json": {
       "model_id": "8fd872c2d0b74b3d8810efceb0b6b61f",
       "version_major": 2,
       "version_minor": 0
      },
      "text/plain": [
       "Epoch 81/100:   0%|          | 0/110 [00:00<?, ?batch/s]"
      ]
     },
     "metadata": {},
     "output_type": "display_data"
    },
    {
     "name": "stdout",
     "output_type": "stream",
     "text": [
      "Epoch 81: train_loss=0.9414 train_acc=76.99% | val_loss=1.0991 val_acc=71.60% | time=35.7s\n"
     ]
    },
    {
     "data": {
      "application/vnd.jupyter.widget-view+json": {
       "model_id": "3f1a33002d80474bb1046e7d7df407a5",
       "version_major": 2,
       "version_minor": 0
      },
      "text/plain": [
       "Epoch 82/100:   0%|          | 0/110 [00:00<?, ?batch/s]"
      ]
     },
     "metadata": {},
     "output_type": "display_data"
    },
    {
     "name": "stdout",
     "output_type": "stream",
     "text": [
      "Epoch 82: train_loss=0.9341 train_acc=77.39% | val_loss=1.0047 val_acc=75.33% | time=33.8s\n",
      "  ✓ New best saved\n"
     ]
    },
    {
     "data": {
      "application/vnd.jupyter.widget-view+json": {
       "model_id": "c04b23dbd9444185aa0e3cd483612b13",
       "version_major": 2,
       "version_minor": 0
      },
      "text/plain": [
       "Epoch 83/100:   0%|          | 0/110 [00:00<?, ?batch/s]"
      ]
     },
     "metadata": {},
     "output_type": "display_data"
    },
    {
     "name": "stdout",
     "output_type": "stream",
     "text": [
      "Epoch 83: train_loss=0.9322 train_acc=77.50% | val_loss=1.0103 val_acc=75.10% | time=32.2s\n"
     ]
    },
    {
     "data": {
      "application/vnd.jupyter.widget-view+json": {
       "model_id": "2bae1a0a78634706a0c1b321cf228a79",
       "version_major": 2,
       "version_minor": 0
      },
      "text/plain": [
       "Epoch 84/100:   0%|          | 0/110 [00:00<?, ?batch/s]"
      ]
     },
     "metadata": {},
     "output_type": "display_data"
    },
    {
     "name": "stdout",
     "output_type": "stream",
     "text": [
      "Epoch 84: train_loss=0.9351 train_acc=77.71% | val_loss=1.1165 val_acc=72.10% | time=34.6s\n"
     ]
    },
    {
     "data": {
      "application/vnd.jupyter.widget-view+json": {
       "model_id": "5383d73cf130445787deba60659d622f",
       "version_major": 2,
       "version_minor": 0
      },
      "text/plain": [
       "Epoch 85/100:   0%|          | 0/110 [00:00<?, ?batch/s]"
      ]
     },
     "metadata": {},
     "output_type": "display_data"
    },
    {
     "name": "stdout",
     "output_type": "stream",
     "text": [
      "Epoch 85: train_loss=0.9273 train_acc=77.69% | val_loss=1.0566 val_acc=73.47% | time=35.1s\n"
     ]
    },
    {
     "data": {
      "application/vnd.jupyter.widget-view+json": {
       "model_id": "7831382a76e54395a120fa62b4d07fca",
       "version_major": 2,
       "version_minor": 0
      },
      "text/plain": [
       "Epoch 86/100:   0%|          | 0/110 [00:00<?, ?batch/s]"
      ]
     },
     "metadata": {},
     "output_type": "display_data"
    },
    {
     "name": "stdout",
     "output_type": "stream",
     "text": [
      "Epoch 86: train_loss=0.9216 train_acc=78.29% | val_loss=1.0465 val_acc=74.50% | time=31.9s\n"
     ]
    },
    {
     "data": {
      "application/vnd.jupyter.widget-view+json": {
       "model_id": "ef0b2065e2054919be5f28f639e50986",
       "version_major": 2,
       "version_minor": 0
      },
      "text/plain": [
       "Epoch 87/100:   0%|          | 0/110 [00:00<?, ?batch/s]"
      ]
     },
     "metadata": {},
     "output_type": "display_data"
    },
    {
     "name": "stdout",
     "output_type": "stream",
     "text": [
      "Epoch 87: train_loss=0.9241 train_acc=78.06% | val_loss=1.0223 val_acc=74.93% | time=32.2s\n"
     ]
    },
    {
     "data": {
      "application/vnd.jupyter.widget-view+json": {
       "model_id": "b83b259786aa4f38b70c04167d170598",
       "version_major": 2,
       "version_minor": 0
      },
      "text/plain": [
       "Epoch 88/100:   0%|          | 0/110 [00:00<?, ?batch/s]"
      ]
     },
     "metadata": {},
     "output_type": "display_data"
    },
    {
     "name": "stdout",
     "output_type": "stream",
     "text": [
      "Epoch 88: train_loss=0.9179 train_acc=77.81% | val_loss=1.1099 val_acc=73.50% | time=30.7s\n"
     ]
    },
    {
     "data": {
      "application/vnd.jupyter.widget-view+json": {
       "model_id": "aecb2eece08d4d7a8402cee66ce17c7f",
       "version_major": 2,
       "version_minor": 0
      },
      "text/plain": [
       "Epoch 89/100:   0%|          | 0/110 [00:00<?, ?batch/s]"
      ]
     },
     "metadata": {},
     "output_type": "display_data"
    },
    {
     "name": "stdout",
     "output_type": "stream",
     "text": [
      "Epoch 89: train_loss=0.9135 train_acc=78.35% | val_loss=1.0168 val_acc=75.27% | time=30.7s\n"
     ]
    },
    {
     "data": {
      "application/vnd.jupyter.widget-view+json": {
       "model_id": "76d2e43ac4354cb18de44017e84f6d13",
       "version_major": 2,
       "version_minor": 0
      },
      "text/plain": [
       "Epoch 90/100:   0%|          | 0/110 [00:00<?, ?batch/s]"
      ]
     },
     "metadata": {},
     "output_type": "display_data"
    },
    {
     "name": "stdout",
     "output_type": "stream",
     "text": [
      "Epoch 90: train_loss=0.9068 train_acc=78.66% | val_loss=1.0295 val_acc=74.17% | time=33.2s\n"
     ]
    },
    {
     "data": {
      "application/vnd.jupyter.widget-view+json": {
       "model_id": "dedc30f98a504bd7bb003f8e6771b77e",
       "version_major": 2,
       "version_minor": 0
      },
      "text/plain": [
       "Epoch 91/100:   0%|          | 0/110 [00:00<?, ?batch/s]"
      ]
     },
     "metadata": {},
     "output_type": "display_data"
    },
    {
     "name": "stdout",
     "output_type": "stream",
     "text": [
      "Epoch 91: train_loss=0.9086 train_acc=78.47% | val_loss=1.0150 val_acc=74.83% | time=32.9s\n"
     ]
    },
    {
     "data": {
      "application/vnd.jupyter.widget-view+json": {
       "model_id": "b449f676f297437881ac381156c28b9f",
       "version_major": 2,
       "version_minor": 0
      },
      "text/plain": [
       "Epoch 92/100:   0%|          | 0/110 [00:00<?, ?batch/s]"
      ]
     },
     "metadata": {},
     "output_type": "display_data"
    },
    {
     "name": "stdout",
     "output_type": "stream",
     "text": [
      "Epoch 92: train_loss=0.9084 train_acc=78.61% | val_loss=1.0585 val_acc=73.80% | time=31.8s\n"
     ]
    },
    {
     "data": {
      "application/vnd.jupyter.widget-view+json": {
       "model_id": "1a4f3f144c8441549ab1c8ef89b8b2db",
       "version_major": 2,
       "version_minor": 0
      },
      "text/plain": [
       "Epoch 93/100:   0%|          | 0/110 [00:00<?, ?batch/s]"
      ]
     },
     "metadata": {},
     "output_type": "display_data"
    },
    {
     "name": "stdout",
     "output_type": "stream",
     "text": [
      "Epoch 93: train_loss=0.9066 train_acc=78.69% | val_loss=1.0192 val_acc=75.47% | time=30.5s\n",
      "  ✓ New best saved\n"
     ]
    },
    {
     "data": {
      "application/vnd.jupyter.widget-view+json": {
       "model_id": "22137b4e1e904b04af0ef8fcb52d0db9",
       "version_major": 2,
       "version_minor": 0
      },
      "text/plain": [
       "Epoch 94/100:   0%|          | 0/110 [00:00<?, ?batch/s]"
      ]
     },
     "metadata": {},
     "output_type": "display_data"
    },
    {
     "name": "stdout",
     "output_type": "stream",
     "text": [
      "Epoch 94: train_loss=0.9012 train_acc=78.87% | val_loss=1.0270 val_acc=74.50% | time=25.5s\n"
     ]
    },
    {
     "data": {
      "application/vnd.jupyter.widget-view+json": {
       "model_id": "d8c1aba99cc646d39af71b65cf3dd442",
       "version_major": 2,
       "version_minor": 0
      },
      "text/plain": [
       "Epoch 95/100:   0%|          | 0/110 [00:00<?, ?batch/s]"
      ]
     },
     "metadata": {},
     "output_type": "display_data"
    },
    {
     "name": "stdout",
     "output_type": "stream",
     "text": [
      "Epoch 95: train_loss=0.8935 train_acc=79.04% | val_loss=1.0385 val_acc=74.50% | time=25.8s\n"
     ]
    },
    {
     "data": {
      "application/vnd.jupyter.widget-view+json": {
       "model_id": "c33d61bcaae04f5bbf25b9914f363672",
       "version_major": 2,
       "version_minor": 0
      },
      "text/plain": [
       "Epoch 96/100:   0%|          | 0/110 [00:00<?, ?batch/s]"
      ]
     },
     "metadata": {},
     "output_type": "display_data"
    },
    {
     "name": "stdout",
     "output_type": "stream",
     "text": [
      "Epoch 96: train_loss=0.8918 train_acc=79.25% | val_loss=1.0440 val_acc=74.63% | time=25.2s\n"
     ]
    },
    {
     "data": {
      "application/vnd.jupyter.widget-view+json": {
       "model_id": "59c711e952594007a2d30384b37224a6",
       "version_major": 2,
       "version_minor": 0
      },
      "text/plain": [
       "Epoch 97/100:   0%|          | 0/110 [00:00<?, ?batch/s]"
      ]
     },
     "metadata": {},
     "output_type": "display_data"
    },
    {
     "name": "stdout",
     "output_type": "stream",
     "text": [
      "Epoch 97: train_loss=0.8937 train_acc=78.76% | val_loss=1.6112 val_acc=62.97% | time=25.6s\n"
     ]
    },
    {
     "data": {
      "application/vnd.jupyter.widget-view+json": {
       "model_id": "8ea3185c36204413891d39591dbf1623",
       "version_major": 2,
       "version_minor": 0
      },
      "text/plain": [
       "Epoch 98/100:   0%|          | 0/110 [00:00<?, ?batch/s]"
      ]
     },
     "metadata": {},
     "output_type": "display_data"
    },
    {
     "name": "stdout",
     "output_type": "stream",
     "text": [
      "Epoch 98: train_loss=0.8849 train_acc=79.27% | val_loss=1.0330 val_acc=75.00% | time=25.7s\n"
     ]
    },
    {
     "data": {
      "application/vnd.jupyter.widget-view+json": {
       "model_id": "aa8c68359626420e8b7f8820415cf85e",
       "version_major": 2,
       "version_minor": 0
      },
      "text/plain": [
       "Epoch 99/100:   0%|          | 0/110 [00:00<?, ?batch/s]"
      ]
     },
     "metadata": {},
     "output_type": "display_data"
    },
    {
     "name": "stdout",
     "output_type": "stream",
     "text": [
      "Epoch 99: train_loss=0.8849 train_acc=79.27% | val_loss=1.1769 val_acc=71.67% | time=26.2s\n"
     ]
    },
    {
     "data": {
      "application/vnd.jupyter.widget-view+json": {
       "model_id": "2e06c7e742244a70a853409c8c082248",
       "version_major": 2,
       "version_minor": 0
      },
      "text/plain": [
       "Epoch 100/100:   0%|          | 0/110 [00:00<?, ?batch/s]"
      ]
     },
     "metadata": {},
     "output_type": "display_data"
    },
    {
     "name": "stdout",
     "output_type": "stream",
     "text": [
      "Epoch 100: train_loss=0.8856 train_acc=79.31% | val_loss=1.6845 val_acc=65.50% | time=26.2s\n",
      "Loaded best checkpoint (val_acc=75.47)\n",
      "Test loss=1.0565  test_acc=74.80%\n"
     ]
    },
    {
     "data": {
      "image/png": "[encoded data removed]",
      "text/plain": [
       "<Figure size 1000x800 with 2 Axes>"
      ]
     },
     "metadata": {},
     "output_type": "display_data"
    },
    {
     "data": {
      "image/png": "[encoded data removed]",
      "text/plain": [
       "<Figure size 1200x500 with 2 Axes>"
      ]
     },
     "metadata": {},
     "output_type": "display_data"
    },
    {
     "name": "stdout",
     "output_type": "stream",
     "text": [
      "Done.\n"
     ]
    }
   ],
   "source": [
    "# Full ready-to-run cell\n",
    "# =====================================================\n",
    "# Infrared Solar Modules — INN training using CSV labels\n",
    "# Paste and run (single cell)\n",
    "# =====================================================\n",
    "\n",
    "import os, sys, time, math\n",
    "from pathlib import Path\n",
    "import numpy as np\n",
    "import pandas as pd\n",
    "from PIL import Image\n",
    "from tqdm.notebook import tqdm\n",
    "import matplotlib.pyplot as plt\n",
    "from sklearn.model_selection import train_test_split\n",
    "from sklearn.metrics import confusion_matrix, ConfusionMatrixDisplay\n",
    "\n",
    "import torch\n",
    "import torch.nn as nn\n",
    "import torch.nn.functional as F\n",
    "import torch.optim as optim\n",
    "from torch.utils.data import Dataset, DataLoader, random_split\n",
    "from torchvision import transforms\n",
    "from torch import amp\n",
    "\n",
    "# -----------------------------\n",
    "# Config - EDIT THESE if needed\n",
    "# -----------------------------\n",
    "ROOT = r\"C:\\Users\\cscpr\\Desktop\\SEM3\\Projects\\FAI\\dataset\\2020-02-14_InfraredSolarModules\"\n",
    "CSV_PATH = os.path.join(ROOT, \"module_metadata.csv\")   # your CSV\n",
    "IMG_DIR = os.path.join(ROOT, \"images\")                 # the folder with 0.jpg,1.jpg,...\n",
    "CACHE_DIR = os.path.join(ROOT, \"cache_infrared\")\n",
    "CACHE_IMAGES_TORCH = os.path.join(CACHE_DIR, \"images_cached.pt\")\n",
    "\n",
    "DEVICE = torch.device(\"cuda\" if torch.cuda.is_available() else \"cpu\")\n",
    "print(\"Device:\", DEVICE)\n",
    "\n",
    "IMG_SIZE = 128            # small = fast; increase to 128/224 for better accuracy (slower)\n",
    "BATCH_START = 128        # starting batch; will shrink on OOM\n",
    "EPOCHS = 100\n",
    "LEARNING_RATE = 3e-4\n",
    "WEIGHT_DECAY = 1e-4\n",
    "NUM_WORKERS = 2          # set 0 on Windows if you get worker errors\n",
    "\n",
    "# Use cudnn autotuner for fixed-size inputs (speeds up)\n",
    "torch.backends.cudnn.benchmark = True\n",
    "\n",
    "# -----------------------------\n",
    "# Helper: find filename column in CSV\n",
    "# -----------------------------\n",
    "def find_image_column(df):\n",
    "    candidates = [\n",
    "        \"image_filepath\", \"image_filepath_rel\", \"image_file\", \"image_filename\",\n",
    "        \"filepath\", \"file\", \"filename\", \"image_path\", \"image\", \"image_filepath\"\n",
    "    ]\n",
    "    for c in candidates:\n",
    "        if c in df.columns:\n",
    "            return c\n",
    "    # try to find any column containing 'image' or 'file'\n",
    "    for c in df.columns:\n",
    "        if \"image\" in c.lower() or \"file\" in c.lower() or \"filepath\" in c.lower():\n",
    "            return c\n",
    "    raise RuntimeError(f\"Couldn't detect image filename column in CSV. Columns: {list(df.columns)}\")\n",
    "\n",
    "# -----------------------------\n",
    "# Load CSV and prepare labels\n",
    "# -----------------------------\n",
    "df = pd.read_csv(CSV_PATH)\n",
    "print(\"Loaded CSV:\", CSV_PATH, \"rows:\", len(df))\n",
    "img_col = find_image_column(df)\n",
    "print(\"Detected image filename column in CSV:\", img_col)\n",
    "\n",
    "# standardize paths (if values are 'images/0.jpg' or '0.jpg')\n",
    "def normalize_path(v):\n",
    "    if pd.isna(v):\n",
    "        return v\n",
    "    s = str(v)\n",
    "    # If it's already an absolute path, return as-is\n",
    "    if os.path.isabs(s):\n",
    "        return s\n",
    "    # otherwise, join with IMG_DIR if not already prefixed\n",
    "    if s.startswith(\"images/\") or s.startswith(\"./images/\") or s.startswith(\"images\\\\\"):\n",
    "        return os.path.join(ROOT, s.replace(\"/\", os.sep).replace(\"\\\\\", os.sep))\n",
    "    # if only filename like \"0.jpg\"\n",
    "    return os.path.join(IMG_DIR, s)\n",
    "\n",
    "df[\"_img_path\"] = df[img_col].map(normalize_path)\n",
    "\n",
    "# ensure anomaly/class column exists\n",
    "possible_label_cols = [\"anomaly_class\", \"anomaly\", \"class\", \"label\"]\n",
    "label_col = None\n",
    "for c in possible_label_cols:\n",
    "    if c in df.columns:\n",
    "        label_col = c\n",
    "        break\n",
    "if label_col is None:\n",
    "    # try find column containing 'anomaly' or 'class'\n",
    "    for c in df.columns:\n",
    "        if \"anomaly\" in c.lower() or \"class\" in c.lower():\n",
    "            label_col = c\n",
    "            break\n",
    "if label_col is None:\n",
    "    raise RuntimeError(f\"Couldn't find label column in CSV. Columns: {list(df.columns)}\")\n",
    "print(\"Detected label column:\", label_col)\n",
    "\n",
    "df = df[[ \"_img_path\", label_col ]].rename(columns={label_col: \"anomaly_class\"})\n",
    "df = df.dropna(subset=[\"_img_path\"]).reset_index(drop=True)\n",
    "\n",
    "# Map classes to indices\n",
    "classes = sorted(df[\"anomaly_class\"].unique())\n",
    "class_to_idx = {c:i for i,c in enumerate(classes)}\n",
    "df[\"label\"] = df[\"anomaly_class\"].map(class_to_idx)\n",
    "\n",
    "print(\"Found classes:\", classes)\n",
    "print(\"Sample rows:\", df.head(3).to_dict(orient=\"records\") )\n",
    "\n",
    "# -----------------------------\n",
    "# Preprocess & cache images (tensor) - only once\n",
    "# -----------------------------\n",
    "os.makedirs(CACHE_DIR, exist_ok=True)\n",
    "if not Path(CACHE_IMAGES_TORCH).exists():\n",
    "    print(\"Preprocessing images and caching tensors (first run). This may take a short while.\")\n",
    "    images = []\n",
    "    labels = []\n",
    "    failed = 0\n",
    "    for i, row in tqdm(df.iterrows(), total=len(df)):\n",
    "        p = row[\"_img_path\"]\n",
    "        try:\n",
    "            im = Image.open(p).convert(\"RGB\").resize((IMG_SIZE, IMG_SIZE))\n",
    "            # To tensor normalized to [0,1]\n",
    "            arr = np.array(im).astype(np.float32) / 255.0\n",
    "            # convert HWC->CHW\n",
    "            t = torch.from_numpy(arr).permute(2,0,1)\n",
    "            images.append(t)\n",
    "            labels.append(int(row[\"label\"]))\n",
    "        except Exception as e:\n",
    "            failed += 1\n",
    "            if failed < 10:\n",
    "                print(\"Failed loading:\", p, \"error:\", e)\n",
    "    if failed:\n",
    "        print(f\"{failed} images failed to load and were skipped.\")\n",
    "    images = torch.stack(images, dim=0)\n",
    "    labels = torch.tensor(labels, dtype=torch.long)\n",
    "    torch.save((images, labels, classes), CACHE_IMAGES_TORCH)\n",
    "    print(\"Saved cached tensors ->\", CACHE_IMAGES_TORCH)\n",
    "else:\n",
    "    print(\"Loading cached image tensors...\")\n",
    "    images, labels, classes = torch.load(CACHE_IMAGES_TORCH)\n",
    "    print(\"Loaded cached images:\", images.shape, \"labels:\", labels.shape)\n",
    "\n",
    "NUM_CLASSES = len(classes)\n",
    "print(\"NUM_CLASSES:\", NUM_CLASSES)\n",
    "\n",
    "# -----------------------------\n",
    "# Build dataset and splits\n",
    "# -----------------------------\n",
    "full_dataset = torch.utils.data.TensorDataset(images, labels)\n",
    "\n",
    "n_total = len(full_dataset)\n",
    "n_train = int(0.70 * n_total)\n",
    "n_val   = int(0.15 * n_total)\n",
    "n_test  = n_total - n_train - n_val\n",
    "train_ds, val_ds, test_ds = random_split(full_dataset, [n_train, n_val, n_test], generator=torch.Generator().manual_seed(42))\n",
    "print(\"Splits ->\", n_train, n_val, n_test)\n",
    "\n",
    "# DataLoader factory (with safe fallbacks)\n",
    "def make_loaders(batch_size, num_workers=NUM_WORKERS):\n",
    "    try:\n",
    "        train_loader = DataLoader(train_ds, batch_size=batch_size, shuffle=True,\n",
    "                                  num_workers=num_workers, pin_memory=True)\n",
    "        val_loader = DataLoader(val_ds, batch_size=batch_size, shuffle=False,\n",
    "                                num_workers=num_workers, pin_memory=True)\n",
    "        test_loader = DataLoader(test_ds, batch_size=batch_size, shuffle=False,\n",
    "                                 num_workers=num_workers, pin_memory=True)\n",
    "        # quick sanity iterate (one batch) to ensure workers are fine\n",
    "        xb, yb = next(iter(train_loader))\n",
    "        return train_loader, val_loader, test_loader\n",
    "    except Exception as e:\n",
    "        # try safer config\n",
    "        print(\"DataLoader creation failed with num_workers=\", num_workers, \"error:\", e)\n",
    "        if num_workers > 0:\n",
    "            print(\"Retrying with num_workers=0 (safer for Windows).\")\n",
    "            return make_loaders(batch_size, num_workers=0)\n",
    "        raise\n",
    "\n",
    "# find a working batch size (reduce on OOM)\n",
    "def find_batch(batch_start):\n",
    "    b = batch_start\n",
    "    while b >= 8:\n",
    "        try:\n",
    "            loaders = make_loaders(b)\n",
    "            print(\"Using batch size:\", b)\n",
    "            return b, loaders\n",
    "        except RuntimeError as e:\n",
    "            if \"out of memory\" in str(e).lower():\n",
    "                print(\"OOM for batch\", b, \"- trying half\")\n",
    "                torch.cuda.empty_cache()\n",
    "                b = b // 2\n",
    "            else:\n",
    "                raise\n",
    "    raise RuntimeError(\"Couldn't find a working batch size. Reduce IMG_SIZE or model size.\")\n",
    "\n",
    "batch_size, (train_loader, val_loader, test_loader) = find_batch(BATCH_START)\n",
    "\n",
    "# Quick debug print\n",
    "xb, yb = next(iter(train_loader))\n",
    "print(\"One batch shapes:\", xb.shape, yb.shape)\n",
    "\n",
    "# -----------------------------\n",
    "# INN: Involution implementation (robust)\n",
    "# -----------------------------\n",
    "class Involution2d(nn.Module):\n",
    "    def __init__(self, channels, kernel_size=7, stride=1, reduction_ratio=4, group_channels=8):\n",
    "        super().__init__()\n",
    "        self.channels = channels\n",
    "        self.kernel_size = kernel_size\n",
    "        self.stride = stride\n",
    "        self.groups = max(1, channels // group_channels)\n",
    "        self.group_channels = channels // self.groups\n",
    "        self.padding = kernel_size // 2\n",
    "\n",
    "        self.reduce = nn.Sequential(\n",
    "            nn.Conv2d(channels, max(1, channels // reduction_ratio), 1),\n",
    "            nn.BatchNorm2d(max(1, channels // reduction_ratio)),\n",
    "            nn.ReLU(inplace=True),\n",
    "        )\n",
    "        self.span = nn.Conv2d(\n",
    "            max(1, channels // reduction_ratio),\n",
    "            kernel_size * kernel_size * self.groups,\n",
    "            kernel_size=1\n",
    "        )\n",
    "        self.avgpool = nn.AvgPool2d(kernel_size=stride, stride=stride) if stride > 1 else nn.Identity()\n",
    "\n",
    "    def forward(self, x):\n",
    "        weight = self.span(self.reduce(self.avgpool(x)))  # (B, K*K*G, H_out, W_out)\n",
    "        N, _, H_out, W_out = weight.shape\n",
    "        K, G = self.kernel_size, self.groups\n",
    "        weight = weight.view(N, G, K*K, H_out, W_out)\n",
    "\n",
    "        x_unfold = torch.nn.functional.unfold(\n",
    "            x, kernel_size=K, dilation=1, padding=self.padding, stride=self.stride\n",
    "        )  # (B, C*K*K, L) where L=H_out*W_out\n",
    "        x_unfold = x_unfold.view(N, G, self.group_channels, K*K, H_out, W_out)\n",
    "\n",
    "        out = (weight.unsqueeze(2) * x_unfold).sum(dim=3)  # (B, G, group_ch, H_out, W_out)\n",
    "        out = out.view(N, self.channels, H_out, W_out)\n",
    "        return out\n",
    "\n",
    "class InvolutionBlock(nn.Module):\n",
    "    def __init__(self, in_ch, out_ch, kernel_size=7, stride=1, reduction=4, group_channels=8, use_shortcut=True):\n",
    "        super().__init__()\n",
    "        self.use_shortcut = use_shortcut and (in_ch == out_ch) and (stride == 1)\n",
    "        self.proj_in = nn.Sequential(\n",
    "            nn.Conv2d(in_ch, out_ch, kernel_size=1, bias=False),\n",
    "            nn.BatchNorm2d(out_ch),\n",
    "        )\n",
    "        self.inv = Involution2d(out_ch, kernel_size, stride, reduction, group_channels)\n",
    "        self.bn = nn.BatchNorm2d(out_ch)\n",
    "        self.act = nn.ReLU(inplace=True)\n",
    "\n",
    "    def forward(self, x):\n",
    "        out = self.proj_in(x)\n",
    "        out = self.inv(out)\n",
    "        out = self.bn(out)\n",
    "        if self.use_shortcut:\n",
    "            out = out + x\n",
    "        return self.act(out)\n",
    "\n",
    "# -----------------------------\n",
    "# INN Model (small & fast)\n",
    "# -----------------------------\n",
    "class INNModel(nn.Module):\n",
    "    def __init__(self, in_ch=3, num_classes=NUM_CLASSES, base=16):\n",
    "        super().__init__()\n",
    "        self.stem = nn.Sequential(\n",
    "            nn.Conv2d(in_ch, base, 3, 1, 1, bias=False),\n",
    "            nn.BatchNorm2d(base),\n",
    "            nn.ReLU(inplace=True),\n",
    "        )\n",
    "\n",
    "        self.stage1 = nn.Sequential(\n",
    "            InvolutionBlock(base, base, 7),\n",
    "            InvolutionBlock(base, base, 7),\n",
    "        )\n",
    "        self.down1 = nn.Conv2d(base, base*2, 3, 2, 1)\n",
    "\n",
    "        self.stage2 = nn.Sequential(\n",
    "            InvolutionBlock(base*2, base*2, 5),\n",
    "            InvolutionBlock(base*2, base*2, 5),\n",
    "        )\n",
    "        self.down2 = nn.Conv2d(base*2, base*4, 3, 2, 1)\n",
    "\n",
    "        self.stage3 = nn.Sequential(\n",
    "            InvolutionBlock(base*4, base*4, 3),\n",
    "            InvolutionBlock(base*4, base*4, 3),\n",
    "        )\n",
    "\n",
    "        self.head = nn.Sequential(\n",
    "            nn.AdaptiveAvgPool2d(1),\n",
    "            nn.Flatten(),\n",
    "            nn.Dropout(0.4),\n",
    "            nn.Linear(base*4, num_classes),\n",
    "        )\n",
    "\n",
    "    def forward(self, x):\n",
    "        x = self.stem(x)\n",
    "        x = self.stage1(x)\n",
    "        x = self.down1(x)\n",
    "        x = self.stage2(x)\n",
    "        x = self.down2(x)\n",
    "        x = self.stage3(x)\n",
    "        x = self.head(x)\n",
    "        return x\n",
    "\n",
    "model = INNModel(in_ch=3, num_classes=NUM_CLASSES, base=16).to(DEVICE)\n",
    "print(\"Model params: %.3f M\" % (sum(p.numel() for p in model.parameters())/1e6))\n",
    "\n",
    "# -----------------------------\n",
    "# Training setup\n",
    "# -----------------------------\n",
    "criterion = nn.CrossEntropyLoss(label_smoothing=0.05)\n",
    "optimizer = optim.AdamW(model.parameters(), lr=LEARNING_RATE, weight_decay=WEIGHT_DECAY)\n",
    "scaler = amp.GradScaler(enabled=(DEVICE.type==\"cuda\"))\n",
    "\n",
    "history = {\"train_loss\":[], \"val_loss\":[], \"train_acc\":[], \"val_acc\":[]}\n",
    "best_val = -1.0\n",
    "epochs_no_improve = 0\n",
    "\n",
    "# -----------------------------\n",
    "# Training / Eval functions\n",
    "# -----------------------------\n",
    "def evaluate(loader):\n",
    "    model.eval()\n",
    "    running_loss, correct, total = 0.0, 0, 0\n",
    "    with torch.no_grad():\n",
    "        for x, y in loader:\n",
    "            x = x.to(DEVICE); y = y.to(DEVICE)\n",
    "            with amp.autocast(\"cuda\", enabled=(DEVICE.type==\"cuda\")):\n",
    "                logits = model(x)\n",
    "                loss = criterion(logits, y)\n",
    "            running_loss += loss.item() * x.size(0)\n",
    "            preds = logits.argmax(dim=1)\n",
    "            correct += (preds == y).sum().item()\n",
    "            total += y.size(0)\n",
    "    return running_loss / max(1,total), 100.0 * correct / max(1,total)\n",
    "\n",
    "def train_loop(epochs=EPOCHS):\n",
    "    global best_val, epochs_no_improve\n",
    "    for ep in range(1, epochs+1):\n",
    "        t0 = time.time()\n",
    "        model.train()\n",
    "        running_loss, correct, total = 0.0, 0, 0\n",
    "        pbar = tqdm(train_loader, desc=f\"Epoch {ep}/{epochs}\", unit=\"batch\")\n",
    "        for x, y in pbar:\n",
    "            x = x.to(DEVICE); y = y.to(DEVICE)\n",
    "            optimizer.zero_grad()\n",
    "            with amp.autocast(\"cuda\", enabled=(DEVICE.type==\"cuda\")):\n",
    "                logits = model(x)\n",
    "                loss = criterion(logits, y)\n",
    "            scaler.scale(loss).backward()\n",
    "            scaler.unscale_(optimizer)\n",
    "            torch.nn.utils.clip_grad_norm_(model.parameters(), 1.0)\n",
    "            scaler.step(optimizer); scaler.update()\n",
    "\n",
    "            running_loss += loss.item() * x.size(0)\n",
    "            preds = logits.argmax(dim=1)\n",
    "            correct += (preds == y).sum().item()\n",
    "            total += y.size(0)\n",
    "            pbar.set_postfix(train_loss=running_loss/max(1,total), train_acc=100.0*correct/max(1,total))\n",
    "\n",
    "        tr_loss = running_loss / max(1,total)\n",
    "        tr_acc = 100.0 * correct / max(1,total)\n",
    "        val_loss, val_acc = evaluate(val_loader)\n",
    "\n",
    "        history[\"train_loss\"].append(tr_loss)\n",
    "        history[\"train_acc\"].append(tr_acc)\n",
    "        history[\"val_loss\"].append(val_loss)\n",
    "        history[\"val_acc\"].append(val_acc)\n",
    "\n",
    "        elapsed = time.time()-t0\n",
    "        print(f\"Epoch {ep}: train_loss={tr_loss:.4f} train_acc={tr_acc:.2f}% | val_loss={val_loss:.4f} val_acc={val_acc:.2f}% | time={elapsed:.1f}s\")\n",
    "\n",
    "        # checkpoint & early stopping\n",
    "        if val_acc > best_val:\n",
    "            best_val = val_acc\n",
    "            epochs_no_improve = 0\n",
    "            torch.save({\n",
    "                \"model_state\": model.state_dict(),\n",
    "                \"optimizer_state\": optimizer.state_dict(),\n",
    "                \"epoch\": ep,\n",
    "                \"val_acc\": val_acc,\n",
    "                \"classes\": classes,\n",
    "            }, os.path.join(CACHE_DIR, \"inn_best.pth\"))\n",
    "            print(\"  ✓ New best saved\")\n",
    "        else:\n",
    "            pass\n",
    "\n",
    "# -----------------------------\n",
    "# Run training\n",
    "# -----------------------------\n",
    "train_loop()\n",
    "\n",
    "# -----------------------------\n",
    "# Load best and test\n",
    "# -----------------------------\n",
    "ckpt_path = os.path.join(CACHE_DIR, \"inn_best.pth\")\n",
    "if os.path.exists(ckpt_path):\n",
    "    ckpt = torch.load(ckpt_path, map_location=DEVICE)\n",
    "    model.load_state_dict(ckpt[\"model_state\"])\n",
    "    print(\"Loaded best checkpoint (val_acc=%.2f)\" % ckpt.get(\"val_acc\", 0.0))\n",
    "else:\n",
    "    print(\"No checkpoint found; using last model.\")\n",
    "\n",
    "test_loss, test_acc = evaluate(test_loader)\n",
    "print(f\"Test loss={test_loss:.4f}  test_acc={test_acc:.2f}%\")\n",
    "\n",
    "# -----------------------------\n",
    "# Confusion matrix + plots\n",
    "# -----------------------------\n",
    "model.eval()\n",
    "all_preds, all_labels = [], []\n",
    "with torch.no_grad():\n",
    "    for x, y in test_loader:\n",
    "        x = x.to(DEVICE)\n",
    "        with amp.autocast(\"cuda\", enabled=(DEVICE.type==\"cuda\")):\n",
    "            logits = model(x)\n",
    "        preds = logits.argmax(dim=1).cpu().numpy()\n",
    "        all_preds.extend(preds)\n",
    "        all_labels.extend(y.numpy())\n",
    "\n",
    "cm = confusion_matrix(all_labels, all_preds)\n",
    "disp = ConfusionMatrixDisplay(confusion_matrix=cm, display_labels=classes)\n",
    "fig, ax = plt.subplots(figsize=(10,8))\n",
    "disp.plot(ax=ax, cmap=\"Blues\", xticks_rotation=45)\n",
    "plt.title(\"Confusion Matrix\")\n",
    "plt.show()\n",
    "\n",
    "plt.figure(figsize=(12,5))\n",
    "plt.subplot(1,2,1)\n",
    "plt.plot(history[\"train_loss\"], label=\"Train\")\n",
    "plt.plot(history[\"val_loss\"], label=\"Val\")\n",
    "plt.xlabel(\"Epoch\"); plt.ylabel(\"Loss\"); plt.title(\"Loss\"); plt.legend(); plt.grid(True)\n",
    "\n",
    "plt.subplot(1,2,2)\n",
    "plt.plot(history[\"train_acc\"], label=\"Train\")\n",
    "plt.plot(history[\"val_acc\"], label=\"Val\")\n",
    "plt.xlabel(\"Epoch\"); plt.ylabel(\"Accuracy\"); plt.title(\"Accuracy\"); plt.legend(); plt.grid(True)\n",
    "plt.tight_layout()\n",
    "plt.show()\n",
    "\n",
    "print(\"Done.\")\n"
   ]
  }
 ],
 "metadata": {
  "kernelspec": {
   "display_name": "Python 3",
   "language": "python",
   "name": "python3"
  },
  "language_info": {
   "codemirror_mode": {
    "name": "ipython",
    "version": 3
   },
   "file_extension": ".py",
   "mimetype": "text/x-python",
   "name": "python",
   "nbconvert_exporter": "python",
   "pygments_lexer": "ipython3",
   "version": "3.11.0"
  }
 },
 "nbformat": 4,
 "nbformat_minor": 5
}
